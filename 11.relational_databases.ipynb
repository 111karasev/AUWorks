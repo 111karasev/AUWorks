{
 "cells": [
  {
   "cell_type": "markdown",
   "metadata": {},
   "source": [
    "# Работа с реляционными БД"
   ]
  },
  {
   "cell_type": "code",
   "execution_count": 1,
   "metadata": {},
   "outputs": [],
   "source": [
    "import sqlite3\n",
    "import sqlalchemy\n",
    "\n",
    "conn = sqlite3.connect(\"students.db\")  # Как оригинально!\n",
    "cursor = conn.cursor()"
   ]
  },
  {
   "cell_type": "markdown",
   "metadata": {},
   "source": [
    "А дальше соединения с любой реляционной БД и (для любых типов реляционных СУБД) должны (желательно) удовлетворять [Python DB-API 2.0](https://www.python.org/dev/peps/pep-0249/)."
   ]
  },
  {
   "cell_type": "code",
   "execution_count": 2,
   "metadata": {},
   "outputs": [],
   "source": [
    "with open(\"11.drop_ddl.sql\", 'r', encoding='utf-8') as f: drop_ddl = f.read()\n",
    "with open(\"11.create_ddl.sql\", 'r', encoding='utf-8') as f: create_ddl = f.read()\n",
    "with open(\"11.insert_dml.sql\", 'r', encoding='utf-8') as f: insert_dml = f.read()"
   ]
  },
  {
   "cell_type": "code",
   "execution_count": 3,
   "metadata": {},
   "outputs": [],
   "source": [
    "if True:\n",
    "    for st in drop_ddl.split(';'):\n",
    "        cursor.execute(st)\n",
    "    conn.commit()"
   ]
  },
  {
   "cell_type": "code",
   "execution_count": 4,
   "metadata": {},
   "outputs": [],
   "source": [
    "for st in create_ddl.split(';'):\n",
    "    cursor.execute(st)\n",
    "conn.commit()"
   ]
  },
  {
   "cell_type": "code",
   "execution_count": 5,
   "metadata": {},
   "outputs": [],
   "source": [
    "for st in insert_dml.split(';'):\n",
    "    cursor.execute(st)\n",
    "conn.commit()"
   ]
  },
  {
   "cell_type": "code",
   "execution_count": 6,
   "metadata": {},
   "outputs": [
    {
     "data": {
      "text/html": [
       "<table>\n",
       "<tbody>\n",
       "<tr><td style=\"text-align: right;\">1</td><td>математика и информационные технологии</td></tr>\n",
       "<tr><td style=\"text-align: right;\">2</td><td>теоретическая физика                  </td></tr>\n",
       "</tbody>\n",
       "</table>"
      ],
      "text/plain": [
       "<IPython.core.display.HTML object>"
      ]
     },
     "metadata": {},
     "output_type": "display_data"
    },
    {
     "data": {
      "text/html": [
       "<table>\n",
       "<tbody>\n",
       "<tr><td>математика и информационные технологии</td><td>Антон   </td><td>Битов   </td><td></td></tr>\n",
       "<tr><td>теоретическая физика                  </td><td>Виолетта</td><td>Аргонова</td><td></td></tr>\n",
       "</tbody>\n",
       "</table>"
      ],
      "text/plain": [
       "<IPython.core.display.HTML object>"
      ]
     },
     "metadata": {},
     "output_type": "display_data"
    }
   ],
   "source": [
    "from IPython.display import HTML, display\n",
    "import tabulate  # pip install tabulate\n",
    "\n",
    "cursor.execute(\n",
    "    '''select id, name from programs'''\n",
    ")\n",
    "display(HTML(tabulate.tabulate(cursor.fetchall(), tablefmt='html')))\n",
    "\n",
    "cursor.execute(\n",
    "    '''select programs.name, students.name, surname, patronymic\n",
    "    from programs join students\n",
    "    on programs.id = students.program_id''')\n",
    "display(HTML(tabulate.tabulate(cursor.fetchall(), tablefmt='html')))"
   ]
  },
  {
   "cell_type": "code",
   "execution_count": 7,
   "metadata": {},
   "outputs": [],
   "source": [
    "conn.close()"
   ]
  },
  {
   "cell_type": "markdown",
   "metadata": {},
   "source": [
    "Теперь попробуем немного [ORM](https://en.wikipedia.org/wiki/Object-relational_mapping) — [SQLAlchemy](https://ru.wikibooks.org/wiki/SQLAlchemy)"
   ]
  },
  {
   "cell_type": "code",
   "execution_count": 8,
   "metadata": {},
   "outputs": [],
   "source": [
    "from sqlalchemy import Table, Column, Integer, String, MetaData, ForeignKey\n",
    "from sqlalchemy.orm import sessionmaker, relationship\n",
    "from sqlalchemy.ext.declarative import declarative_base\n",
    "\n",
    "DeclBase = declarative_base()"
   ]
  },
  {
   "cell_type": "code",
   "execution_count": 9,
   "metadata": {},
   "outputs": [],
   "source": [
    "engine = sqlalchemy.create_engine('sqlite:///students.db', echo=False)  # echo=True для логгинга\n",
    "Session = sessionmaker(bind=engine)\n",
    "session = Session()"
   ]
  },
  {
   "cell_type": "code",
   "execution_count": 10,
   "metadata": {
    "scrolled": true
   },
   "outputs": [],
   "source": [
    "class Program(DeclBase):\n",
    "    __tablename__ = 'programs'\n",
    "    id = Column(Integer, primary_key=True)\n",
    "    name = Column(String)\n",
    "\n",
    "    students = relationship(\"Student\", backref=\"program\")\n",
    "    programs_courses = relationship(\"Program_course\", backref=\"course2\")\n",
    "\n",
    "    def __init__(self, name):\n",
    "        self.name = name\n",
    "        \n",
    "class Course(DeclBase):\n",
    "    __tablename__ = 'courses'\n",
    "    id = Column(Integer, primary_key=True)\n",
    "    name = Column(String)\n",
    "    \n",
    "    programs_courses = relationship(\"Program_course\", backref=\"course\")\n",
    "    marks = relationship(\"Mark\", backref=\"course2\")\n",
    "    \n",
    "    def __init__(self, name):\n",
    "        self.name = name\n",
    "        \n",
    "class Program_course(DeclBase):\n",
    "    __tablename__ = 'programs_courses'\n",
    "    semester_number = Column(Integer, primary_key=True)\n",
    "    course_id = Column(Integer, ForeignKey('courses.id'), primary_key=True)\n",
    "    program_id = Column(Integer, ForeignKey('programs.id'), primary_key=True)\n",
    "    \n",
    "    def __init__(self, semester_number, course_id, program_id):\n",
    "        self.semester_number = semester_number\n",
    "        self.course_id = course_id\n",
    "        self.program_id = program_id\n",
    "        \n",
    "class Mark(DeclBase):\n",
    "    __tablename__ = 'marks'\n",
    "    student_id = Column(Integer, ForeignKey('students.id'), primary_key=True)\n",
    "    course_id = Column(Integer, ForeignKey('courses.id'), primary_key=True)\n",
    "    mark = Column(Integer)\n",
    "    \n",
    "    students = relationship(\"Student\", backref=\"mark\")\n",
    "    \n",
    "    def __init__(self, student_id, course_id, mark):\n",
    "        self.student_id = student_id\n",
    "        self.course_id = course_id\n",
    "        self.mark = mark\n",
    "\n",
    "class Student(DeclBase):\n",
    "    __tablename__ = 'students'\n",
    "    id = Column(Integer, primary_key=True)\n",
    "    card = Column(String)\n",
    "    surname = Column(String)\n",
    "    name = Column(String)\n",
    "    patronymic = Column(String)\n",
    "    \n",
    "    program_id = Column(Integer, ForeignKey('programs.id'))\n",
    "    \n",
    "    marks = relationship(\"Mark\", backref=\"student\")\n",
    "    \n",
    "    def __init__(self, card, surname, name, patronymic, program):\n",
    "        self.card = card\n",
    "        self.surname = surname\n",
    "        self.name = name\n",
    "        self.patronymic = patronymic\n",
    "        self.program = program"
   ]
  },
  {
   "cell_type": "code",
   "execution_count": 11,
   "metadata": {},
   "outputs": [],
   "source": [
    "se = Program(\"Программная инженерия\")\n",
    "\n",
    "st1 = Student(\"002002\", \"Иванов\", \"Пётр\", \"Сидорович\", se)\n",
    "st2 = Student(\"002003\", \"Петрова\", \"Исидора\", \"Ивановна\", se)\n",
    "\n",
    "session.add_all([se, st1, st2])\n",
    "session.commit()"
   ]
  },
  {
   "cell_type": "code",
   "execution_count": 12,
   "metadata": {},
   "outputs": [
    {
     "name": "stdout",
     "output_type": "stream",
     "text": [
      "Программы и студенты\n",
      "Программа:  математика и информационные технологии\n",
      "-  Антон\n",
      "Программа:  теоретическая физика\n",
      "-  Виолетта\n",
      "Программа:  Программная инженерия\n",
      "-  Пётр\n",
      "-  Исидора\n"
     ]
    }
   ],
   "source": [
    "import sys\n",
    "\n",
    "print(\"Программы и студенты\")\n",
    "for p in session.query(Program):\n",
    "    print(\"Программа: \", p.name)\n",
    "    for s in p.students:\n",
    "        print(\"- \", s.name)"
   ]
  },
  {
   "cell_type": "code",
   "execution_count": 13,
   "metadata": {},
   "outputs": [
    {
     "name": "stdout",
     "output_type": "stream",
     "text": [
      "Программы и предметы\n",
      "математика и информационные технологии\n",
      "Алгебра\n",
      "Матан\n",
      "Алгоритмы\n",
      "теоретическая физика\n",
      "Алгебра\n",
      "Матан\n",
      "Физика\n",
      "Программная инженерия\n"
     ]
    }
   ],
   "source": [
    "print(\"Программы и предметы\")\n",
    "for p in session.query(Program):\n",
    "    print(p.name)\n",
    "    for c in p.programs_courses:\n",
    "        print(session.query(Course).filter_by(id=c.course_id)[0].name)"
   ]
  },
  {
   "cell_type": "code",
   "execution_count": 14,
   "metadata": {},
   "outputs": [
    {
     "name": "stdout",
     "output_type": "stream",
     "text": [
      "Студенты и оценки\n",
      "Антон\n",
      "5\n",
      "Виолетта\n",
      "4\n",
      "Пётр\n",
      "Исидора\n"
     ]
    }
   ],
   "source": [
    "print(\"Студенты и оценки\")\n",
    "for s in session.query(Student):\n",
    "    print(s.name)\n",
    "    for m in s.marks:\n",
    "        print(m.mark)"
   ]
  },
  {
   "cell_type": "code",
   "execution_count": 15,
   "metadata": {},
   "outputs": [
    {
     "name": "stdout",
     "output_type": "stream",
     "text": [
      "Алгебра\n",
      "5 Антон\n",
      "Матан\n",
      "Алгоритмы\n",
      "4 Виолетта\n",
      "Физика\n"
     ]
    }
   ],
   "source": [
    "for c in session.query(Course):\n",
    "    print(c.name)\n",
    "    for m in c.marks:\n",
    "        print(m.mark, session.query(Student).filter_by(id=m.student_id)[0].name)"
   ]
  },
  {
   "cell_type": "code",
   "execution_count": 16,
   "metadata": {},
   "outputs": [
    {
     "name": "stdout",
     "output_type": "stream",
     "text": [
      "Программы и студенты\n",
      "Программа:  математика и информационные технологии\n",
      "-  Антон\n",
      "Программа:  теоретическая физика\n",
      "Программа:  Программная инженерия\n",
      "-  Виолетта\n",
      "-  Пётр\n",
      "-  Исидора\n"
     ]
    }
   ],
   "source": [
    "for s in session.query(Student).filter_by(surname=\"Аргонова\"):\n",
    "    s.program = se\n",
    "session.commit()\n",
    "\n",
    "print(\"Программы и студенты\")\n",
    "for p in session.query(Program):\n",
    "    print(\"Программа: \", p.name)\n",
    "    for s in p.students:\n",
    "        print(\"- \", s.name)"
   ]
  }
 ],
 "metadata": {
  "kernelspec": {
   "display_name": "Python 3",
   "language": "python",
   "name": "python3"
  },
  "language_info": {
   "codemirror_mode": {
    "name": "ipython",
    "version": 3
   },
   "file_extension": ".py",
   "mimetype": "text/x-python",
   "name": "python",
   "nbconvert_exporter": "python",
   "pygments_lexer": "ipython3",
   "version": "3.7.3"
  }
 },
 "nbformat": 4,
 "nbformat_minor": 2
}
